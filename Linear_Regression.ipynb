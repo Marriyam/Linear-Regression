{
  "nbformat": 4,
  "nbformat_minor": 0,
  "metadata": {
    "colab": {
      "provenance": [],
      "authorship_tag": "ABX9TyOdOQ4rP+ssZWQn02XdDU7a",
      "include_colab_link": true
    },
    "kernelspec": {
      "name": "python3",
      "display_name": "Python 3"
    },
    "language_info": {
      "name": "python"
    }
  },
  "cells": [
    {
      "cell_type": "markdown",
      "metadata": {
        "id": "view-in-github",
        "colab_type": "text"
      },
      "source": [
        "<a href=\"https://colab.research.google.com/github/Marriyam/Linear-Regression/blob/main/Linear_Regression.ipynb\" target=\"_parent\"><img src=\"https://colab.research.google.com/assets/colab-badge.svg\" alt=\"Open In Colab\"/></a>"
      ]
    },
    {
      "cell_type": "markdown",
      "source": [
        "###Linear Regression\n",
        "\n",
        "Statistical method used to model the relationship between a dependent variable (target) and one or more independent variables (predictors).\n",
        "\n",
        "###Equation:\n",
        "we began with equation of straight line: *y=mx+c*\n"
      ],
      "metadata": {
        "id": "mq-VoNYiwh6B"
      }
    },
    {
      "cell_type": "markdown",
      "source": [
        "###Linear Regression with Scipy"
      ],
      "metadata": {
        "id": "CEw2eyp0yWyx"
      }
    },
    {
      "cell_type": "code",
      "source": [
        "# Importing Libraries\n",
        "import matplotlib.pyplot as plt\n",
        "from scipy import stats\n",
        "import numpy as np\n",
        "from sklearn.model_selection import train_test_split\n",
        "from sklearn.linear_model import LinearRegression\n",
        "from sklearn.metrics import mean_squared_error, r2_score\n"
      ],
      "metadata": {
        "id": "2epJNDOZ0Aca"
      },
      "execution_count": 9,
      "outputs": []
    },
    {
      "cell_type": "code",
      "execution_count": null,
      "metadata": {
        "colab": {
          "base_uri": "https://localhost:8080/",
          "height": 447
        },
        "id": "mMnoe95bwUsj",
        "outputId": "3c73ecd5-65f3-41a3-b210-ad0bc732c818"
      },
      "outputs": [
        {
          "output_type": "stream",
          "name": "stdout",
          "text": [
            "1.8693693693693694 2.9954954954954953\n"
          ]
        },
        {
          "output_type": "display_data",
          "data": {
            "text/plain": [
              "<Figure size 640x480 with 1 Axes>"
            ],
            "image/png": "[encoded data removed]"
          },
          "metadata": {}
        }
      ],
      "source": [
        "\n",
        "X=[1,2,3,4,5,6,8,9]\n",
        "y=[4,7,9,11,12,15,17,20]\n",
        "\n",
        "slope, intercept, r, p, std_err = stats.linregress(X, y) #\n",
        "print(slope,intercept)\n",
        "def myfunc(x):\n",
        "  return slope * x + intercept\n",
        "\n",
        "mymodel = list(map(myfunc, X))\n",
        "\n",
        "plt.scatter(X, y)  #it just plots xy discrete values and will not make a line\n",
        "plt.plot(X, mymodel) #will draw continuous line\n",
        "plt.show()"
      ]
    },
    {
      "cell_type": "markdown",
      "source": [
        "#### Calculating Slope & Y-Intercept"
      ],
      "metadata": {
        "id": "BJrpz8HCyzWv"
      }
    },
    {
      "cell_type": "code",
      "source": [
        "X=[1,2,3]\n",
        "y=[4,7,9]\n",
        "n= len(X)\n",
        "sum_x=0;\n",
        "sum_y=0;\n",
        "sum_xy=0;\n",
        "sum_xx=0;\n",
        "for i in range(n):\n",
        "    sum_x=sum_x+X[i]\n",
        "    sum_y=sum_y+y[i]\n",
        "    sum_xy=sum_xy+(X[i]*y[i])\n",
        "    sum_xx=sum_xx+(X[i]*X[i])\n",
        "\n",
        "mean_X=sum_x/n\n",
        "mean_y=sum_y/n\n",
        "mean_xy=sum_xy/n\n",
        "mean_xx=sum_xx/n\n",
        "print(mean_X)\n",
        "print(mean_y)\n",
        "print(mean_xy)\n",
        "print(mean_xx)\n",
        "m=(mean_xy-(mean_X*mean_y))/(mean_xx-(mean_X*mean_X));\n",
        "c=mean_y-(m*mean_X);\n",
        "print(m,c)\n"
      ],
      "metadata": {
        "colab": {
          "base_uri": "https://localhost:8080/"
        },
        "id": "sTTEkNRyy7U3",
        "outputId": "16a081fa-8796-4e5a-fa0f-6c895df58e75"
      },
      "execution_count": null,
      "outputs": [
        {
          "output_type": "stream",
          "name": "stdout",
          "text": [
            "2.0\n",
            "6.666666666666667\n",
            "15.0\n",
            "4.666666666666667\n",
            "2.4999999999999982 1.6666666666666705\n"
          ]
        }
      ]
    },
    {
      "cell_type": "markdown",
      "source": [
        "###Linear Regression with Sklearn"
      ],
      "metadata": {
        "id": "4uyftdSrz1RQ"
      }
    },
    {
      "cell_type": "code",
      "source": [
        "X = np.array([1, 3, 5,8,9,4, 8, 10, 14, 18 ])            #we will just use a simple array\n",
        "y = np.array([22, 23, 29, 31, 32,38, 37, 43.5, 44, 45])\n",
        "X = X.reshape(-1, 1)       #then would reshape in order to put it into the format that is acceptable by Sklearn's LinearRegression function\n",
        "print(X)\n",
        "y = y.reshape(-1, 1)\n",
        "print(y)\n",
        "regression = LinearRegression()\n",
        "regression.fit(X, y)\n",
        "print(regression.score(X, y))\n",
        "\n"
      ],
      "metadata": {
        "colab": {
          "base_uri": "https://localhost:8080/"
        },
        "id": "JLJKcFzez9rh",
        "outputId": "29657419-ae00-415d-dc42-1a65c0ceb42e"
      },
      "execution_count": 7,
      "outputs": [
        {
          "output_type": "stream",
          "name": "stdout",
          "text": [
            "[[ 1]\n",
            " [ 3]\n",
            " [ 5]\n",
            " [ 8]\n",
            " [ 9]\n",
            " [ 4]\n",
            " [ 8]\n",
            " [10]\n",
            " [14]\n",
            " [18]]\n",
            "[[22. ]\n",
            " [23. ]\n",
            " [29. ]\n",
            " [31. ]\n",
            " [32. ]\n",
            " [38. ]\n",
            " [37. ]\n",
            " [43.5]\n",
            " [44. ]\n",
            " [45. ]]\n",
            "0.6906574077706723\n"
          ]
        }
      ]
    },
    {
      "cell_type": "code",
      "source": [
        "y_pred = regression.predict(X)\n",
        "\n",
        "mse = mean_squared_error(y, y_pred)\n",
        "r2 = r2_score(y, y_pred)\n",
        "\n",
        "print(f\"Mean Squared Error: {mse}\")\n",
        "print(f\"R2 Score: {r2}\")\n",
        "\n",
        "plt.scatter(X, y, color ='b')\n",
        "plt.plot(X, y_pred, color ='k')\n",
        "\n",
        "plt.show()"
      ],
      "metadata": {
        "colab": {
          "base_uri": "https://localhost:8080/",
          "height": 465
        },
        "id": "vVA_VQtcz-uW",
        "outputId": "9710e297-bcda-4d75-8fb9-97e531388585"
      },
      "execution_count": 11,
      "outputs": [
        {
          "output_type": "stream",
          "name": "stdout",
          "text": [
            "Mean Squared Error: 19.712083333333332\n",
            "R2 Score: 0.6906574077706723\n"
          ]
        },
        {
          "output_type": "display_data",
          "data": {
            "text/plain": [
              "<Figure size 640x480 with 1 Axes>"
            ],
            "image/png": "[encoded data removed]"
          },
          "metadata": {}
        }
      ]
    }
  ]
}